{
 "cells": [
  {
   "cell_type": "markdown",
   "source": "# Variables\n\n## Affectation\n\nUne variable en informatique possède 3 caractéristiques :\n- un **nom**\n- une **valeur**\n- un **type**\n\nPar exemple, l'instruction suivante permet de définir une variable nommée `a`, de valeur 42 et de type entier :",
   "metadata": {
    "id": "5bd539ce",
    "cell_id": "00000-aabb8e06-c496-4c2b-b6a1-477768b1c9ff",
    "deepnote_cell_type": "markdown"
   }
  },
  {
   "cell_type": "code",
   "metadata": {
    "id": "46f4dfa5",
    "cell_id": "00001-02bbcab6-2e8e-437f-b570-b37a58faf8c3",
    "deepnote_to_be_reexecuted": false,
    "source_hash": "8a4cfe84",
    "execution_start": 1623867737617,
    "execution_millis": 1,
    "deepnote_cell_type": "code"
   },
   "source": "a = 472  # définition d'une variable a",
   "execution_count": null,
   "outputs": []
  },
  {
   "cell_type": "markdown",
   "source": "Lorsque l'on définit une variable de cette façon, la valeur 42 est stockée dans la mémoire RAM et peut être récupérée en écrivant le nom de la variable :",
   "metadata": {
    "id": "4a6ccfb5",
    "cell_id": "00002-d84e3c3a-765b-4e60-8119-f172aad8c157",
    "deepnote_cell_type": "markdown"
   }
  },
  {
   "cell_type": "code",
   "metadata": {
    "id": "e61f2cb6",
    "cell_id": "00003-d48ac214-4d0d-423c-804f-38d46007c926",
    "deepnote_to_be_reexecuted": false,
    "source_hash": "ef4233c",
    "execution_start": 1623867739413,
    "execution_millis": 7,
    "deepnote_cell_type": "code"
   },
   "source": "a",
   "execution_count": null,
   "outputs": [
    {
     "output_type": "execute_result",
     "execution_count": 2,
     "data": {
      "text/plain": "42"
     },
     "metadata": {}
    }
   ]
  },
  {
   "cell_type": "markdown",
   "source": "Python remplace `a` par sa valeur et donne le résultat.  \nOn peut aussi modifier la valeur de `a` :",
   "metadata": {
    "id": "111ceb40",
    "cell_id": "00004-8a914736-5e26-45a7-b159-dd321c814812",
    "deepnote_cell_type": "markdown"
   }
  },
  {
   "cell_type": "code",
   "metadata": {
    "id": "9cfc31ae",
    "cell_id": "00005-c1986c00-f937-4d13-ac3a-736c65f9ccef",
    "deepnote_to_be_reexecuted": false,
    "source_hash": "a9a30edd",
    "execution_start": 1623867741151,
    "execution_millis": 7,
    "deepnote_cell_type": "code"
   },
   "source": "a = -4  # modification de a\na",
   "execution_count": null,
   "outputs": [
    {
     "output_type": "execute_result",
     "execution_count": 3,
     "data": {
      "text/plain": "-4"
     },
     "metadata": {}
    }
   ]
  },
  {
   "cell_type": "markdown",
   "source": "De manière générale, une affectation s'écrit sous la forme suivante :\n````{margin}\n```{danger}\nLe sens du symbole = en mathématiques est très différent. Ainsi, en mathématiques, $x = x + y\\times4$ est une équation que l'on peut résoudre en $0 = y\\times4$, c'est à dire $y = 0$... rien à voir avec ce que fait Python !\n```\n````\n```python\na = expression\n```\n**Cette affectation a pour effet de calculer la valeur de l'expression et de mettre cette valeur dans `a`.**\n\nConsidérons par exemple les lignes suivantes :",
   "metadata": {
    "id": "757d3a7b",
    "cell_id": "00006-4c7228d1-8818-4708-84ea-e7f97a0e7a5c",
    "deepnote_cell_type": "markdown"
   }
  },
  {
   "cell_type": "code",
   "metadata": {
    "id": "08972b4c",
    "cell_id": "00007-08818801-394f-4e47-8a3d-9232d6a6c371",
    "deepnote_cell_type": "code"
   },
   "source": "x = 2  # x est défini en prenant la valeur 2\ny = 3  # y est défini en prenant la valeur 3\nx = x + y*4  # x + y*4 est calculé et sa valeur (14) est mise dans x\nprint(x)",
   "execution_count": null,
   "outputs": []
  },
  {
   "cell_type": "markdown",
   "source": "## Types de base\n\nVoici les principaux types qui vont nous intéresser en Python :\n\n| Type | Description | Exemple |\n| --- | --- | --- |\n| `int` | entier | `0`, `42`, `-7` |\n| `float` | nombre à virgule | `3.14`, `-2.718` |\n| `bool` | booléen (vrai ou faux) | `True`, `False` |\n| `tuple` | $n$-uplet | `(1, 2, 3)`, `(3.14, \"chaine\", [1, 0])` |\n| `list` | liste | `[1, 2, 3]`, `[3.14, \"chaine\", [1, 0]]` |\n| `str` | chaîne de caractères | `\"blabla\"`, `\"\"`, `\"info\"` |\n\n### Types numériques : `int`, `float`\n\n* `int` est utilisé pour les entiers (naturels : positif ou négatif).\n* `float` est utilisé pour les nombres à virgule. Attention :  \n```{danger}\nPython utilise en fait des points pour les nombres à virgules. Les virgules sont utilisées pour séparer des éléments, par exemple dans des `tuple` ou `list` :\n```",
   "metadata": {
    "id": "29656743",
    "cell_id": "00008-e1a4a155-8c62-4a50-9af7-2e5a2bc4b2ed",
    "deepnote_cell_type": "markdown"
   }
  },
  {
   "cell_type": "code",
   "metadata": {
    "id": "83f7142e",
    "cell_id": "00009-e10caeeb-0c32-483a-a80a-c061078a9b4a",
    "deepnote_cell_type": "code"
   },
   "source": "e = 2,718\nprint(e)  # on a défini un couple et non pas un float !\ne = 2.718\nprint(e)  # cette fois, on a bien un float",
   "execution_count": null,
   "outputs": []
  },
  {
   "cell_type": "markdown",
   "source": "Voici les opérations que l'on peut effectuer sur les `int` et `float` :\n\n| Opérateur | Signification | Exemple |\n| --- | --- | --- |\n| `+` | addition | `2 + 3` vaut `5` |\n| `-` | soustraction | `2 - 3` vaut `-1` |\n| `*` | multiplication | `2*3` vaut `6` |\n| `**` | puissance | `2**3` vaut `8` |\n| `/` | division (dans $\\mathbb{Q}$) | `5/2` vaut `2.5` |\n| `//` | division **entière** (dans $\\mathbb{N}$) | `5//2` vaut `2`  |\n\nUne racine peut être calculée avec `**`. Par exemple, $\\sqrt{2} = 2^{\\frac{1}{2}}$ : aa",
   "metadata": {
    "id": "df3fd2c7",
    "cell_id": "00010-e57eeb7b-c20f-4442-8022-fe6898b0db69",
    "deepnote_cell_type": "markdown"
   }
  },
  {
   "cell_type": "code",
   "metadata": {
    "id": "ea5988f9",
    "cell_id": "00011-90991532-9ff3-47ce-ba1c-0221ad2ad3ae",
    "deepnote_cell_type": "code"
   },
   "source": "2**0.5",
   "execution_count": null,
   "outputs": []
  },
  {
   "cell_type": "markdown",
   "source": "```{admonition} Exercice\n:class: tip\nUtiliser Python pour calculer la valeur (approximative) du nombre d'or $\\phi = \\frac{1 + \\sqrt{5}}{2}$\n```",
   "metadata": {
    "id": "b95fa959",
    "cell_id": "00012-8b0c4298-fd61-44b6-9895-b71bb34f42d0",
    "deepnote_cell_type": "markdown"
   }
  },
  {
   "cell_type": "code",
   "metadata": {
    "id": "e645338c",
    "cell_id": "00013-b99d75d9-997c-4ee7-93fc-a372cb8a6316",
    "deepnote_cell_type": "code"
   },
   "source": "# Votre solution",
   "execution_count": null,
   "outputs": []
  },
  {
   "cell_type": "code",
   "metadata": {
    "tags": [
     "hide-cell"
    ],
    "id": "0e07acca",
    "cell_id": "00014-365f838c-75a8-44e0-8b76-c0c884424b7d",
    "deepnote_cell_type": "code"
   },
   "source": "(1 + 5**0.5)/2 + 1",
   "execution_count": null,
   "outputs": []
  },
  {
   "cell_type": "markdown",
   "source": "````{admonition} Exercice\n:class: tip\nCalculer à la main la valeur de l'expression suivante :\n```python\n(6 + 4**0.5)/2*2\n```\n````",
   "metadata": {
    "id": "c576895b",
    "cell_id": "00015-68ab08c6-147f-469f-ab59-15150a1ec22c",
    "deepnote_cell_type": "markdown"
   }
  },
  {
   "cell_type": "code",
   "metadata": {
    "tags": [
     "hide-cell"
    ],
    "id": "25cb6360",
    "cell_id": "00016-befad8c7-78d7-4b21-985f-ca0a28f0771d",
    "deepnote_cell_type": "code"
   },
   "source": "(6 + 4**0.5)/2*2",
   "execution_count": null,
   "outputs": []
  },
  {
   "cell_type": "markdown",
   "source": "On peut comparer des `int`/`float` de la façon suivante :\n````{margin}\n```{danger}\nNe pas confondre `a = b`, qui permet de mettre la valeur de `b` dans `a`, et `a == b` qui permet de tester si `a` et `b` ont la même valeur.  \n```\n````\n| Symbole | Signification | Exemple |\n| --- | --- | --- |\n| `==` | égal | `0 == 0` vaut `True`, `3.14 == 3` vaut `False` |\n| `<` | inférieur strictement | `1 < 2` vaut `True`, `3.14 < 3.14` vaut `False` |\n| `>` | supérieur strictement | `1 > 2` vaut `False`, `3.14 > 3.14` vaut `False` |\n| `<=` | inférieur ou égal | `1 <= 2` vaut `True`, `3.14 <= 3.14` vaut `True` |\n| `>=` | supérieur ou égal | `1 >= 2` vaut `False`, `3.14 >= 3.14` vaut `True` |\n| `!=` | différent | `1 != 2` vaut `True`, `3.14 != 3.14` vaut `False` |\n\n\nIl est possible d'enchaîner des comparaisons. Par exemple, pour tester si $\\phi$ est compris entre 1 et 2 :",
   "metadata": {
    "id": "e02ddf3b",
    "cell_id": "00017-667cfe55-ec82-4617-a93e-f7237c7b4623",
    "deepnote_cell_type": "markdown"
   }
  },
  {
   "cell_type": "code",
   "metadata": {
    "id": "46a326bc",
    "cell_id": "00018-dce4e915-0b62-43d6-bd69-4f85bed0b415",
    "deepnote_cell_type": "code"
   },
   "source": "1 < (1 + 5**0.5)/2 < 2",
   "execution_count": null,
   "outputs": []
  },
  {
   "cell_type": "markdown",
   "source": "### Booléens\n\n| Opérateur | Signification | Exemple |\n| --- | --- | --- |\n| `or` | ou | `0 == 0 or 3.14 == 3` vaut `True` |\n| `and` | et | `0 == 0 and 3.14 == 3` vaut `False` |\n| `not` | négation | `not 0 < 1` vaut `False` |\n\n````{admonition} Exercice\n:class: tip\nDonner la valeur de l'expression suivante :\n```python\nnot (1 <= 1 and (1 == 2 or 0 != 1))\n```\n````",
   "metadata": {
    "id": "e114c39d",
    "cell_id": "00019-a40e56d6-21bc-4d45-8da4-8d16f926f657",
    "deepnote_cell_type": "markdown"
   }
  },
  {
   "cell_type": "code",
   "metadata": {
    "tags": [
     "hide-cell"
    ],
    "id": "404b1440",
    "cell_id": "00020-d81793b0-4f8d-4c63-85e7-e5d7a6f6dcb0",
    "deepnote_cell_type": "code"
   },
   "source": "not (1 <= 1 and (1 == 2 or 0 != 1))",
   "execution_count": null,
   "outputs": []
  },
  {
   "cell_type": "markdown",
   "source": "### Listes\n\nUne liste sert à stocker plusieurs éléments. Par exemple, pour définir une liste contenant l'entier 1, le booléen `True` et le flottant `3.14` :",
   "metadata": {
    "id": "39797cf1",
    "cell_id": "00021-6a5874a9-3894-4663-9252-36217b7b8141",
    "deepnote_cell_type": "markdown"
   }
  },
  {
   "cell_type": "code",
   "metadata": {
    "tags": [],
    "id": "59a96c3b",
    "cell_id": "00022-b42f0338-d58f-4e5c-92a4-25a1f1ac8718",
    "deepnote_cell_type": "code"
   },
   "source": "L = [1, True, 3.14]\nL",
   "execution_count": null,
   "outputs": []
  },
  {
   "cell_type": "markdown",
   "source": "```{list-table}\n:header-rows: 1\n\n* - Python\n  - Signification\n  - Exemple\n* - `[..., ..., ...]`\n  - Création d'une liste\n  - `[1, True, 3.14]` <br> `[]` (liste vide)\n* - `len(L)`\n  - Taille d'une liste `L`\n  - `len([1, True, 3.14])` vaut 3\n* - `L[i]`\n  - Élement d'indice `i` d'une liste `L`\n  - Si `L` vaut `[1, True, 3.14]`, <br> `L[0]` vaut `1`, `L[1]` vaut `True`, `L[2]` vaut `3.14`\n* - `L.append(e)`\n  - Ajoute un élément `e` à une liste `L`\n  - `L.append(42)`\n``` \n```{danger}\n`L.append(e)` modifie `L`, il ne faut donc surtout pas écrire `L = L.append(e)` (erreur fréquente).\n```\n\n```{danger}\nLes indices commencent toujours à 0 en informatique. Le dernier indice d'une liste `L` est `len(L) - 1`.\n```\n`L[-1]` est un raccourci permettant d'accéder au dernier élément d'une liste. De même, `L[-2]` accède à l'avant dernier élément...\n\nEssayer d'accéder à un élément qui n'existe pas produit une erreur :",
   "metadata": {
    "id": "5ab7034b",
    "cell_id": "00023-865cce12-79d2-419d-9071-c1ca22024d42",
    "deepnote_cell_type": "markdown"
   }
  },
  {
   "cell_type": "code",
   "metadata": {
    "tags": [
     "hide-output"
    ],
    "id": "d1f0463f",
    "cell_id": "00024-e00aca4d-a1ea-41af-9150-5729eef5325a",
    "deepnote_cell_type": "code"
   },
   "source": "L = [3, 1, 4]\nprint(L[2])  # donne 4\nprint(L[3])  # ERREUR",
   "execution_count": null,
   "outputs": []
  },
  {
   "cell_type": "markdown",
   "source": "````{margin}\n```{danger}\nLes indices de fin sont presque toujours exclu en Python, par convention.\n```\n\n````\nL'opération de *slicing* `L[i:j]` permet d'extraire une sous liste de `L` contenant les éléments de l'indice `i` inclu à `j` **exclu** :",
   "metadata": {
    "id": "510f2d71",
    "cell_id": "00025-8afdcad1-b8ab-47f9-9e0d-d3d1fc86e58c",
    "deepnote_cell_type": "markdown"
   }
  },
  {
   "cell_type": "code",
   "metadata": {
    "id": "cfd2bd1b",
    "cell_id": "00026-0751dccc-7ab5-4764-b266-2a8ea5b86296",
    "deepnote_cell_type": "code"
   },
   "source": "L = [-3, 0, 42, 7, 5]\nL[1:3]",
   "execution_count": null,
   "outputs": []
  },
  {
   "cell_type": "markdown",
   "source": "Dans un slicing, il est possible d'ommettre l'indice de début (auquel cas la liste ext extraite à partir du début) ou l'indice de fin (auquel cas la liste ext extraite jusqu'à la fin).",
   "metadata": {
    "id": "3e4915c0",
    "cell_id": "00027-7556affc-396c-44bc-a4fc-fbaa26abdbfd",
    "deepnote_cell_type": "markdown"
   }
  },
  {
   "cell_type": "code",
   "metadata": {
    "id": "1fdcbfc5",
    "cell_id": "00028-0d69c472-7a47-4744-aa13-8f65bcac1d7b",
    "deepnote_cell_type": "code"
   },
   "source": "print(L[:2])  # sous-liste du 1er au 2ème élément\nprint(L[-2:])  # sous-liste de l'avant-dernier au dernier élément",
   "execution_count": null,
   "outputs": []
  },
  {
   "cell_type": "markdown",
   "source": "### Chaînes de caractères\n\nLes chaînes de caractères (string en anglais) servent à stocker du texte, sous forme d'une suite de caractères (symboles). Contrairement aux listes, il n'est pas possible de modifier une chaîne de caractères (on dit que c'est un type immutable)). Par exemple, il n'y a pas de `append` sur les chaîne de caractères.",
   "metadata": {
    "id": "5720998a",
    "cell_id": "00029-00ae0abb-34d9-470f-bf4a-a6686addbb09",
    "deepnote_cell_type": "markdown"
   }
  },
  {
   "cell_type": "code",
   "metadata": {
    "tags": [
     "hide-output"
    ],
    "id": "795daef3",
    "cell_id": "00030-6654ec48-f6bb-417f-a983-083ef171da0f",
    "deepnote_cell_type": "code"
   },
   "source": "s = \"l'informatique c'est fun\"  # définition d'une chaîne de caractères\nprint(len(s))  # taille de s\nprint(s[2])  # caractère d'indice 2 (c'est à dire en 3ème position)\ns[0] = \"L\"  # ERREUR : on ne peut pas modifier un str\ns.append(\"!\")  # ERREUR : on ne peut pas modifier un str",
   "execution_count": null,
   "outputs": []
  },
  {
   "cell_type": "markdown",
   "source": "### Tuples\n\nLes tuples (ou $n$-uplets) sont la généralisation des couples, triplets... Ils ressemblent beaucoup aux chaînes de caractères (en particulier, ils sont immutables) mais servent à stocker autre chose que du texte.",
   "metadata": {
    "id": "e9a46a7b",
    "cell_id": "00031-862584af-d507-4ece-bedb-7a53f408e3c0",
    "deepnote_cell_type": "markdown"
   }
  },
  {
   "cell_type": "code",
   "metadata": {
    "tags": [
     "hide-output"
    ],
    "id": "54bf420a",
    "cell_id": "00032-1ab1ac5a-5758-40b6-9645-e2d02e1fb1f5",
    "deepnote_cell_type": "code"
   },
   "source": "t = (2, 3, 4, 5)\nprint(t[1])  # donne 3\nprint(len(t))  # donne 4\nt[1] = 6  # ERREUR : on ne peut pas modifier un tuple\nt.append(6)  # ERREUR : on ne peut pas modifier un tuple",
   "execution_count": null,
   "outputs": []
  },
  {
   "cell_type": "markdown",
   "source": "<a style='text-decoration:none;line-height:16px;display:flex;color:#5B5B62;padding:10px;justify-content:end;' href='https://deepnote.com?utm_source=created-in-deepnote-cell&projectId=b81d2eba-c910-4719-9320-754d13558104' target=\"_blank\">\n<img alt='Created in deepnote.com' style='display:inline;max-height:16px;margin:0px;margin-right:7.5px;' src='data:image/svg+xml;base64,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' > </img>\nCreated in <span style='font-weight:600;margin-left:4px;'>Deepnote</span></a>",
   "metadata": {
    "tags": [],
    "created_in_deepnote_cell": true,
    "deepnote_cell_type": "markdown"
   }
  }
 ],
 "nbformat": 4,
 "nbformat_minor": 5,
 "metadata": {
  "kernelspec": {
   "display_name": "Python 3.8.5 64-bit",
   "language": "python",
   "name": "python3"
  },
  "colab": {
   "name": "variables.ipynb",
   "provenance": []
  },
  "deepnote_notebook_id": "2b2f5618-5724-4948-8cc4-b48b0daf100a",
  "deepnote": {},
  "deepnote_execution_queue": []
 }
}